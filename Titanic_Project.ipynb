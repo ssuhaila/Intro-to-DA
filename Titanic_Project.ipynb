{
 "cells": [
  {
   "cell_type": "markdown",
   "metadata": {},
   "source": [
    "# Titanic Dataset Project"
   ]
  },
  {
   "cell_type": "markdown",
   "metadata": {},
   "source": [
    "# 1.Introduction to Titanic"
   ]
  },
  {
   "cell_type": "markdown",
   "metadata": {},
   "source": [
    "From: https://en.wikipedia.org/wiki/RMS_Titanic\n",
    "        \n",
    "        RMS Titanic (/taɪˈtænɪk/) was a British passenger liner that sank in the North Atlantic Ocean in the early morning hours of 15 April 1912, after it collided with an iceberg during its maiden voyage from Southampton to New York City. There were an estimated 2,224 passengers and crew aboard the ship, and more than 1,500 died, making it one of the deadliest commercial peacetime maritime disasters in modern history. The RMS Titanic was the largest ship afloat at the time it entered service and was the second of three Olympic-class ocean liners operated by the White Star Line. The Titanic was built by the Harland and Wolff shipyard in Belfast. Thomas Andrews, her architect, died in the disaster.[2]\n"
   ]
  },
  {
   "cell_type": "markdown",
   "metadata": {},
   "source": [
    "## 1.1: A few questions about Titanic Data:"
   ]
  },
  {
   "cell_type": "markdown",
   "metadata": {},
   "source": [
    "Below are the few of questions that have emerged from the introduction paragraph:\n",
    "\n",
    "    1. What are the overall survival rate of the passengers? The Wikipedia paragraph painted a bleak outlook. But is there more it than meets the eye? \n",
    "    2. Is there a difference in survival rate between genders (regardless the Passenger Types)?\n",
    "    3. Does the first class Passengers have higher survival rate?\n",
    "    4. And that leads to another question: Is there a difference in mean ticket price between Survivors and non-Survivors?\n"
   ]
  },
  {
   "cell_type": "markdown",
   "metadata": {},
   "source": [
    "## 1.2: The Dataset\n",
    "\n",
    "The Dataset that was used in this report was downloaded from Udacity page- the Project: Investigate a Dataset section. This dataset contains six columns (variables). Below are the explanations on the data available in this set. \n",
    "\n",
    "From: https://www.kaggle.com/c/titanic/data\n",
    "\n",
    "Data Dictionary\n",
    "\n",
    "    Variable\tDefinition\t     Key\n",
    "    survival\tSurvival\t     (0 = No, 1 = Yes)\n",
    "    pclass\t    Ticket class\t(1 = 1st, 2 = 2nd, 3 = 3rd)\n",
    "    sex\t       Sex\t\n",
    "    Age\t       Age in years\t\n",
    "    sibsp\t    # of siblings / spouses aboard the Titanic\t\n",
    "    parch\t    # of parents / children aboard the Titanic\t\n",
    "    ticket\t    Ticket number\t\n",
    "    fare\t    Passenger fare\t\n",
    "    cabin\t    Cabin number\t\n",
    "    embarked\tPort of Embarkation\t (C = Cherbourg, Q = Queenstown, S = Southampton)\n",
    "\n",
    "Before we can start the analysis, it is important to make sure that the data we have is as 'cleaned' as possible. The next step is to initiate a data wrangling process. We will further investigate the type of data we have and fill up the missing values (if found).  "
   ]
  },
  {
   "cell_type": "markdown",
   "metadata": {},
   "source": [
    "# 2. Data Wrangling Section"
   ]
  },
  {
   "cell_type": "markdown",
   "metadata": {},
   "source": [
    "## 2.1: Importing the file into Jupyter"
   ]
  },
  {
   "cell_type": "code",
   "execution_count": 1,
   "metadata": {
    "collapsed": true
   },
   "outputs": [],
   "source": [
    "import csv\n",
    "from datetime import datetime\n",
    "import numpy as np\n",
    "import pandas as pd\n",
    "import matplotlib.pyplot as plt\n",
    "%matplotlib inline  \n"
   ]
  },
  {
   "cell_type": "code",
   "execution_count": 2,
   "metadata": {
    "collapsed": false
   },
   "outputs": [],
   "source": [
    "#Reading the file\n",
    "\n",
    "titanic_data_df=pd.read_csv('titanic-data.csv')"
   ]
  },
  {
   "cell_type": "code",
   "execution_count": 3,
   "metadata": {
    "collapsed": false,
    "scrolled": true
   },
   "outputs": [
    {
     "data": {
      "text/html": [
       "<div>\n",
       "<table border=\"1\" class=\"dataframe\">\n",
       "  <thead>\n",
       "    <tr style=\"text-align: right;\">\n",
       "      <th></th>\n",
       "      <th>PassengerId</th>\n",
       "      <th>Survived</th>\n",
       "      <th>Pclass</th>\n",
       "      <th>Name</th>\n",
       "      <th>Sex</th>\n",
       "      <th>Age</th>\n",
       "      <th>SibSp</th>\n",
       "      <th>Parch</th>\n",
       "      <th>Ticket</th>\n",
       "      <th>Fare</th>\n",
       "      <th>Cabin</th>\n",
       "      <th>Embarked</th>\n",
       "    </tr>\n",
       "  </thead>\n",
       "  <tbody>\n",
       "    <tr>\n",
       "      <th>0</th>\n",
       "      <td>1</td>\n",
       "      <td>0</td>\n",
       "      <td>3</td>\n",
       "      <td>Braund, Mr. Owen Harris</td>\n",
       "      <td>male</td>\n",
       "      <td>22.0</td>\n",
       "      <td>1</td>\n",
       "      <td>0</td>\n",
       "      <td>A/5 21171</td>\n",
       "      <td>7.2500</td>\n",
       "      <td>NaN</td>\n",
       "      <td>S</td>\n",
       "    </tr>\n",
       "    <tr>\n",
       "      <th>1</th>\n",
       "      <td>2</td>\n",
       "      <td>1</td>\n",
       "      <td>1</td>\n",
       "      <td>Cumings, Mrs. John Bradley (Florence Briggs Th...</td>\n",
       "      <td>female</td>\n",
       "      <td>38.0</td>\n",
       "      <td>1</td>\n",
       "      <td>0</td>\n",
       "      <td>PC 17599</td>\n",
       "      <td>71.2833</td>\n",
       "      <td>C85</td>\n",
       "      <td>C</td>\n",
       "    </tr>\n",
       "    <tr>\n",
       "      <th>2</th>\n",
       "      <td>3</td>\n",
       "      <td>1</td>\n",
       "      <td>3</td>\n",
       "      <td>Heikkinen, Miss. Laina</td>\n",
       "      <td>female</td>\n",
       "      <td>26.0</td>\n",
       "      <td>0</td>\n",
       "      <td>0</td>\n",
       "      <td>STON/O2. 3101282</td>\n",
       "      <td>7.9250</td>\n",
       "      <td>NaN</td>\n",
       "      <td>S</td>\n",
       "    </tr>\n",
       "    <tr>\n",
       "      <th>3</th>\n",
       "      <td>4</td>\n",
       "      <td>1</td>\n",
       "      <td>1</td>\n",
       "      <td>Futrelle, Mrs. Jacques Heath (Lily May Peel)</td>\n",
       "      <td>female</td>\n",
       "      <td>35.0</td>\n",
       "      <td>1</td>\n",
       "      <td>0</td>\n",
       "      <td>113803</td>\n",
       "      <td>53.1000</td>\n",
       "      <td>C123</td>\n",
       "      <td>S</td>\n",
       "    </tr>\n",
       "    <tr>\n",
       "      <th>4</th>\n",
       "      <td>5</td>\n",
       "      <td>0</td>\n",
       "      <td>3</td>\n",
       "      <td>Allen, Mr. William Henry</td>\n",
       "      <td>male</td>\n",
       "      <td>35.0</td>\n",
       "      <td>0</td>\n",
       "      <td>0</td>\n",
       "      <td>373450</td>\n",
       "      <td>8.0500</td>\n",
       "      <td>NaN</td>\n",
       "      <td>S</td>\n",
       "    </tr>\n",
       "  </tbody>\n",
       "</table>\n",
       "</div>"
      ],
      "text/plain": [
       "   PassengerId  Survived  Pclass  \\\n",
       "0            1         0       3   \n",
       "1            2         1       1   \n",
       "2            3         1       3   \n",
       "3            4         1       1   \n",
       "4            5         0       3   \n",
       "\n",
       "                                                Name     Sex   Age  SibSp  \\\n",
       "0                            Braund, Mr. Owen Harris    male  22.0      1   \n",
       "1  Cumings, Mrs. John Bradley (Florence Briggs Th...  female  38.0      1   \n",
       "2                             Heikkinen, Miss. Laina  female  26.0      0   \n",
       "3       Futrelle, Mrs. Jacques Heath (Lily May Peel)  female  35.0      1   \n",
       "4                           Allen, Mr. William Henry    male  35.0      0   \n",
       "\n",
       "   Parch            Ticket     Fare Cabin Embarked  \n",
       "0      0         A/5 21171   7.2500   NaN        S  \n",
       "1      0          PC 17599  71.2833   C85        C  \n",
       "2      0  STON/O2. 3101282   7.9250   NaN        S  \n",
       "3      0            113803  53.1000  C123        S  \n",
       "4      0            373450   8.0500   NaN        S  "
      ]
     },
     "execution_count": 3,
     "metadata": {},
     "output_type": "execute_result"
    }
   ],
   "source": [
    "#Viewing the first few rows from the Titanic-data file\n",
    "\n",
    "titanic_data_df.head()"
   ]
  },
  {
   "cell_type": "code",
   "execution_count": 4,
   "metadata": {
    "collapsed": false
   },
   "outputs": [
    {
     "data": {
      "text/plain": [
       "891"
      ]
     },
     "execution_count": 4,
     "metadata": {},
     "output_type": "execute_result"
    }
   ],
   "source": [
    "# Finding the numbers of rows\n",
    "\n",
    "len(titanic_data_df)"
   ]
  },
  {
   "cell_type": "markdown",
   "metadata": {},
   "source": [
    "There are 891 rows in this datasets. Assuming each row represents one passenger, we are looking at 891 passengers in this dataset. This dataset does not contain the complete passengers list, as mentioned in the Introduction section from the Wikipedia. "
   ]
  },
  {
   "cell_type": "markdown",
   "metadata": {},
   "source": [
    "## 2.2: Cleaning the Data\n",
    "\n",
    "Cleaning the data involved two process:-\n",
    "\n",
    "1. Check for duplicates in Ticket Number.\n",
    "2. Fill up 'NaN' value with 'NA' (Not Available). "
   ]
  },
  {
   "cell_type": "markdown",
   "metadata": {},
   "source": [
    "### 2.2.1.1: Check for duplicates in Ticket Number\n",
    "\n",
    "This works on an assumption that Ticket number is unique for each passenger."
   ]
  },
  {
   "cell_type": "code",
   "execution_count": 5,
   "metadata": {
    "collapsed": false
   },
   "outputs": [
    {
     "data": {
      "text/plain": [
       "0      False\n",
       "1      False\n",
       "2      False\n",
       "3      False\n",
       "4      False\n",
       "5      False\n",
       "6      False\n",
       "7      False\n",
       "8      False\n",
       "9      False\n",
       "10     False\n",
       "11     False\n",
       "12     False\n",
       "13     False\n",
       "14     False\n",
       "15     False\n",
       "16     False\n",
       "17     False\n",
       "18     False\n",
       "19     False\n",
       "20     False\n",
       "21     False\n",
       "22     False\n",
       "23     False\n",
       "24      True\n",
       "25     False\n",
       "26     False\n",
       "27     False\n",
       "28     False\n",
       "29     False\n",
       "       ...  \n",
       "861    False\n",
       "862    False\n",
       "863     True\n",
       "864    False\n",
       "865    False\n",
       "866    False\n",
       "867    False\n",
       "868    False\n",
       "869     True\n",
       "870    False\n",
       "871     True\n",
       "872    False\n",
       "873    False\n",
       "874     True\n",
       "875    False\n",
       "876     True\n",
       "877    False\n",
       "878    False\n",
       "879     True\n",
       "880     True\n",
       "881    False\n",
       "882    False\n",
       "883    False\n",
       "884    False\n",
       "885     True\n",
       "886    False\n",
       "887    False\n",
       "888     True\n",
       "889    False\n",
       "890    False\n",
       "dtype: bool"
      ]
     },
     "execution_count": 5,
     "metadata": {},
     "output_type": "execute_result"
    }
   ],
   "source": [
    "\"\"\"Checking for Duplicates tickets. The below code will output a few samples\"\"\"\n",
    "\n",
    "titanic_data_df.duplicated('Ticket')"
   ]
  },
  {
   "cell_type": "markdown",
   "metadata": {},
   "source": [
    "The above results shows that a few customers may shared the same ticket numbers. The code below will check two samples \n",
    "that shows two passengers with the shared tickets. We will then take a couple of these passengers that shared the same ticket number in order to confirm our assumptions that ticket numbers are unique."
   ]
  },
  {
   "cell_type": "code",
   "execution_count": 6,
   "metadata": {
    "collapsed": false
   },
   "outputs": [
    {
     "data": {
      "text/plain": [
       "210"
      ]
     },
     "execution_count": 6,
     "metadata": {},
     "output_type": "execute_result"
    }
   ],
   "source": [
    "(titanic_data_df.duplicated('Ticket')==True).sum()"
   ]
  },
  {
   "cell_type": "markdown",
   "metadata": {},
   "source": [
    "There are around 210 data with the same ticket number. We will do a random sample checkup in order to find out why is this the case."
   ]
  },
  {
   "cell_type": "code",
   "execution_count": 7,
   "metadata": {
    "collapsed": true
   },
   "outputs": [],
   "source": [
    "#procedure to return the data in a particular row\n",
    "\n",
    "def return_row_data(row):\n",
    "    return titanic_data_df.iloc[row]"
   ]
  },
  {
   "cell_type": "code",
   "execution_count": 8,
   "metadata": {
    "collapsed": false
   },
   "outputs": [
    {
     "name": "stdout",
     "output_type": "stream",
     "text": [
      "Data from row 879\n"
     ]
    },
    {
     "data": {
      "text/plain": [
       "PassengerId                                              880\n",
       "Survived                                                   1\n",
       "Pclass                                                     1\n",
       "Name           Potter, Mrs. Thomas Jr (Lily Alexenia Wilson)\n",
       "Sex                                                   female\n",
       "Age                                                       56\n",
       "SibSp                                                      0\n",
       "Parch                                                      1\n",
       "Ticket                                                 11767\n",
       "Fare                                                 83.1583\n",
       "Cabin                                                    C50\n",
       "Embarked                                                   C\n",
       "Name: 879, dtype: object"
      ]
     },
     "execution_count": 8,
     "metadata": {},
     "output_type": "execute_result"
    }
   ],
   "source": [
    "#Extract the details from row 879 since that row returns a True result, aka duplicate was found.\n",
    "\n",
    "print 'Data from row 879'\n",
    "return_row_data(879)"
   ]
  },
  {
   "cell_type": "markdown",
   "metadata": {},
   "source": [
    "We found out Mrs Potter is holding the ticket numbers 11767. Next step is to filter all passengers that hold the same ticket number. "
   ]
  },
  {
   "cell_type": "code",
   "execution_count": 9,
   "metadata": {
    "collapsed": true
   },
   "outputs": [],
   "source": [
    "#Function to return the list of passengers based on the Ticket number\n",
    "\n",
    "def check_ticket(ticket):\n",
    "    return titanic_data_df.loc[titanic_data_df['Ticket'] == ticket]          "
   ]
  },
  {
   "cell_type": "code",
   "execution_count": 10,
   "metadata": {
    "collapsed": false
   },
   "outputs": [
    {
     "data": {
      "text/html": [
       "<div>\n",
       "<table border=\"1\" class=\"dataframe\">\n",
       "  <thead>\n",
       "    <tr style=\"text-align: right;\">\n",
       "      <th></th>\n",
       "      <th>PassengerId</th>\n",
       "      <th>Survived</th>\n",
       "      <th>Pclass</th>\n",
       "      <th>Name</th>\n",
       "      <th>Sex</th>\n",
       "      <th>Age</th>\n",
       "      <th>SibSp</th>\n",
       "      <th>Parch</th>\n",
       "      <th>Ticket</th>\n",
       "      <th>Fare</th>\n",
       "      <th>Cabin</th>\n",
       "      <th>Embarked</th>\n",
       "    </tr>\n",
       "  </thead>\n",
       "  <tbody>\n",
       "    <tr>\n",
       "      <th>310</th>\n",
       "      <td>311</td>\n",
       "      <td>1</td>\n",
       "      <td>1</td>\n",
       "      <td>Hays, Miss. Margaret Bechstein</td>\n",
       "      <td>female</td>\n",
       "      <td>24.0</td>\n",
       "      <td>0</td>\n",
       "      <td>0</td>\n",
       "      <td>11767</td>\n",
       "      <td>83.1583</td>\n",
       "      <td>C54</td>\n",
       "      <td>C</td>\n",
       "    </tr>\n",
       "    <tr>\n",
       "      <th>879</th>\n",
       "      <td>880</td>\n",
       "      <td>1</td>\n",
       "      <td>1</td>\n",
       "      <td>Potter, Mrs. Thomas Jr (Lily Alexenia Wilson)</td>\n",
       "      <td>female</td>\n",
       "      <td>56.0</td>\n",
       "      <td>0</td>\n",
       "      <td>1</td>\n",
       "      <td>11767</td>\n",
       "      <td>83.1583</td>\n",
       "      <td>C50</td>\n",
       "      <td>C</td>\n",
       "    </tr>\n",
       "  </tbody>\n",
       "</table>\n",
       "</div>"
      ],
      "text/plain": [
       "     PassengerId  Survived  Pclass  \\\n",
       "310          311         1       1   \n",
       "879          880         1       1   \n",
       "\n",
       "                                              Name     Sex   Age  SibSp  \\\n",
       "310                 Hays, Miss. Margaret Bechstein  female  24.0      0   \n",
       "879  Potter, Mrs. Thomas Jr (Lily Alexenia Wilson)  female  56.0      0   \n",
       "\n",
       "     Parch Ticket     Fare Cabin Embarked  \n",
       "310      0  11767  83.1583   C54        C  \n",
       "879      1  11767  83.1583   C50        C  "
      ]
     },
     "execution_count": 10,
     "metadata": {},
     "output_type": "execute_result"
    }
   ],
   "source": [
    "#Investigate other passengers that shared the same Ticket number as Mrs Potter, Ticket number 11767\n",
    "\n",
    "check_ticket('11767')"
   ]
  },
  {
   "cell_type": "markdown",
   "metadata": {},
   "source": [
    "Two passengers were sharing the same ticket number. They don't seem to be related, nor they shared the same Cabin number. \n",
    "Further investigation is needed on other duplicated data in order to make sure this is a standard practise by RMS Titanic. "
   ]
  },
  {
   "cell_type": "code",
   "execution_count": 11,
   "metadata": {
    "collapsed": false
   },
   "outputs": [
    {
     "data": {
      "text/plain": [
       "PassengerId                               25\n",
       "Survived                                   0\n",
       "Pclass                                     3\n",
       "Name           Palsson, Miss. Torborg Danira\n",
       "Sex                                   female\n",
       "Age                                        8\n",
       "SibSp                                      3\n",
       "Parch                                      1\n",
       "Ticket                                349909\n",
       "Fare                                  21.075\n",
       "Cabin                                    NaN\n",
       "Embarked                                   S\n",
       "Name: 24, dtype: object"
      ]
     },
     "execution_count": 11,
     "metadata": {},
     "output_type": "execute_result"
    }
   ],
   "source": [
    "#Checking for the second set of duplicate data.Based on the result, we will take passenger in row 24\n",
    "\n",
    "return_row_data(24)"
   ]
  },
  {
   "cell_type": "markdown",
   "metadata": {},
   "source": [
    "Row 24 returns a passenger with ticket number 349909, and it belongs to a certain Miss Palsson. "
   ]
  },
  {
   "cell_type": "code",
   "execution_count": 12,
   "metadata": {
    "collapsed": false
   },
   "outputs": [
    {
     "data": {
      "text/html": [
       "<div>\n",
       "<table border=\"1\" class=\"dataframe\">\n",
       "  <thead>\n",
       "    <tr style=\"text-align: right;\">\n",
       "      <th></th>\n",
       "      <th>PassengerId</th>\n",
       "      <th>Survived</th>\n",
       "      <th>Pclass</th>\n",
       "      <th>Name</th>\n",
       "      <th>Sex</th>\n",
       "      <th>Age</th>\n",
       "      <th>SibSp</th>\n",
       "      <th>Parch</th>\n",
       "      <th>Ticket</th>\n",
       "      <th>Fare</th>\n",
       "      <th>Cabin</th>\n",
       "      <th>Embarked</th>\n",
       "    </tr>\n",
       "  </thead>\n",
       "  <tbody>\n",
       "    <tr>\n",
       "      <th>7</th>\n",
       "      <td>8</td>\n",
       "      <td>0</td>\n",
       "      <td>3</td>\n",
       "      <td>Palsson, Master. Gosta Leonard</td>\n",
       "      <td>male</td>\n",
       "      <td>2.0</td>\n",
       "      <td>3</td>\n",
       "      <td>1</td>\n",
       "      <td>349909</td>\n",
       "      <td>21.075</td>\n",
       "      <td>NaN</td>\n",
       "      <td>S</td>\n",
       "    </tr>\n",
       "    <tr>\n",
       "      <th>24</th>\n",
       "      <td>25</td>\n",
       "      <td>0</td>\n",
       "      <td>3</td>\n",
       "      <td>Palsson, Miss. Torborg Danira</td>\n",
       "      <td>female</td>\n",
       "      <td>8.0</td>\n",
       "      <td>3</td>\n",
       "      <td>1</td>\n",
       "      <td>349909</td>\n",
       "      <td>21.075</td>\n",
       "      <td>NaN</td>\n",
       "      <td>S</td>\n",
       "    </tr>\n",
       "    <tr>\n",
       "      <th>374</th>\n",
       "      <td>375</td>\n",
       "      <td>0</td>\n",
       "      <td>3</td>\n",
       "      <td>Palsson, Miss. Stina Viola</td>\n",
       "      <td>female</td>\n",
       "      <td>3.0</td>\n",
       "      <td>3</td>\n",
       "      <td>1</td>\n",
       "      <td>349909</td>\n",
       "      <td>21.075</td>\n",
       "      <td>NaN</td>\n",
       "      <td>S</td>\n",
       "    </tr>\n",
       "    <tr>\n",
       "      <th>567</th>\n",
       "      <td>568</td>\n",
       "      <td>0</td>\n",
       "      <td>3</td>\n",
       "      <td>Palsson, Mrs. Nils (Alma Cornelia Berglund)</td>\n",
       "      <td>female</td>\n",
       "      <td>29.0</td>\n",
       "      <td>0</td>\n",
       "      <td>4</td>\n",
       "      <td>349909</td>\n",
       "      <td>21.075</td>\n",
       "      <td>NaN</td>\n",
       "      <td>S</td>\n",
       "    </tr>\n",
       "  </tbody>\n",
       "</table>\n",
       "</div>"
      ],
      "text/plain": [
       "     PassengerId  Survived  Pclass  \\\n",
       "7              8         0       3   \n",
       "24            25         0       3   \n",
       "374          375         0       3   \n",
       "567          568         0       3   \n",
       "\n",
       "                                            Name     Sex   Age  SibSp  Parch  \\\n",
       "7                 Palsson, Master. Gosta Leonard    male   2.0      3      1   \n",
       "24                 Palsson, Miss. Torborg Danira  female   8.0      3      1   \n",
       "374                   Palsson, Miss. Stina Viola  female   3.0      3      1   \n",
       "567  Palsson, Mrs. Nils (Alma Cornelia Berglund)  female  29.0      0      4   \n",
       "\n",
       "     Ticket    Fare Cabin Embarked  \n",
       "7    349909  21.075   NaN        S  \n",
       "24   349909  21.075   NaN        S  \n",
       "374  349909  21.075   NaN        S  \n",
       "567  349909  21.075   NaN        S  "
      ]
     },
     "execution_count": 12,
     "metadata": {},
     "output_type": "execute_result"
    }
   ],
   "source": [
    "#Investigate other passengers that shared the same Ticket number as Miss Palsson. Ticket number 349909. \n",
    "\n",
    "check_ticket('349909')"
   ]
  },
  {
   "cell_type": "markdown",
   "metadata": {},
   "source": [
    "Ticket number 349909 were shared by four passengers. Based on their names, we can conclude they came from the same family. "
   ]
  },
  {
   "cell_type": "code",
   "execution_count": 13,
   "metadata": {
    "collapsed": false
   },
   "outputs": [
    {
     "data": {
      "text/plain": [
       "PassengerId                                  864\n",
       "Survived                                       0\n",
       "Pclass                                         3\n",
       "Name           Sage, Miss. Dorothy Edith \"Dolly\"\n",
       "Sex                                       female\n",
       "Age                                          NaN\n",
       "SibSp                                          8\n",
       "Parch                                          2\n",
       "Ticket                                  CA. 2343\n",
       "Fare                                       69.55\n",
       "Cabin                                        NaN\n",
       "Embarked                                       S\n",
       "Name: 863, dtype: object"
      ]
     },
     "execution_count": 13,
     "metadata": {},
     "output_type": "execute_result"
    }
   ],
   "source": [
    "#Checking for another set of duplicated ticket number, this time from row 863\n",
    "\n",
    "return_row_data(863)"
   ]
  },
  {
   "cell_type": "code",
   "execution_count": 14,
   "metadata": {
    "collapsed": false
   },
   "outputs": [
    {
     "data": {
      "text/html": [
       "<div>\n",
       "<table border=\"1\" class=\"dataframe\">\n",
       "  <thead>\n",
       "    <tr style=\"text-align: right;\">\n",
       "      <th></th>\n",
       "      <th>PassengerId</th>\n",
       "      <th>Survived</th>\n",
       "      <th>Pclass</th>\n",
       "      <th>Name</th>\n",
       "      <th>Sex</th>\n",
       "      <th>Age</th>\n",
       "      <th>SibSp</th>\n",
       "      <th>Parch</th>\n",
       "      <th>Ticket</th>\n",
       "      <th>Fare</th>\n",
       "      <th>Cabin</th>\n",
       "      <th>Embarked</th>\n",
       "    </tr>\n",
       "  </thead>\n",
       "  <tbody>\n",
       "    <tr>\n",
       "      <th>159</th>\n",
       "      <td>160</td>\n",
       "      <td>0</td>\n",
       "      <td>3</td>\n",
       "      <td>Sage, Master. Thomas Henry</td>\n",
       "      <td>male</td>\n",
       "      <td>NaN</td>\n",
       "      <td>8</td>\n",
       "      <td>2</td>\n",
       "      <td>CA. 2343</td>\n",
       "      <td>69.55</td>\n",
       "      <td>NaN</td>\n",
       "      <td>S</td>\n",
       "    </tr>\n",
       "    <tr>\n",
       "      <th>180</th>\n",
       "      <td>181</td>\n",
       "      <td>0</td>\n",
       "      <td>3</td>\n",
       "      <td>Sage, Miss. Constance Gladys</td>\n",
       "      <td>female</td>\n",
       "      <td>NaN</td>\n",
       "      <td>8</td>\n",
       "      <td>2</td>\n",
       "      <td>CA. 2343</td>\n",
       "      <td>69.55</td>\n",
       "      <td>NaN</td>\n",
       "      <td>S</td>\n",
       "    </tr>\n",
       "    <tr>\n",
       "      <th>201</th>\n",
       "      <td>202</td>\n",
       "      <td>0</td>\n",
       "      <td>3</td>\n",
       "      <td>Sage, Mr. Frederick</td>\n",
       "      <td>male</td>\n",
       "      <td>NaN</td>\n",
       "      <td>8</td>\n",
       "      <td>2</td>\n",
       "      <td>CA. 2343</td>\n",
       "      <td>69.55</td>\n",
       "      <td>NaN</td>\n",
       "      <td>S</td>\n",
       "    </tr>\n",
       "    <tr>\n",
       "      <th>324</th>\n",
       "      <td>325</td>\n",
       "      <td>0</td>\n",
       "      <td>3</td>\n",
       "      <td>Sage, Mr. George John Jr</td>\n",
       "      <td>male</td>\n",
       "      <td>NaN</td>\n",
       "      <td>8</td>\n",
       "      <td>2</td>\n",
       "      <td>CA. 2343</td>\n",
       "      <td>69.55</td>\n",
       "      <td>NaN</td>\n",
       "      <td>S</td>\n",
       "    </tr>\n",
       "    <tr>\n",
       "      <th>792</th>\n",
       "      <td>793</td>\n",
       "      <td>0</td>\n",
       "      <td>3</td>\n",
       "      <td>Sage, Miss. Stella Anna</td>\n",
       "      <td>female</td>\n",
       "      <td>NaN</td>\n",
       "      <td>8</td>\n",
       "      <td>2</td>\n",
       "      <td>CA. 2343</td>\n",
       "      <td>69.55</td>\n",
       "      <td>NaN</td>\n",
       "      <td>S</td>\n",
       "    </tr>\n",
       "    <tr>\n",
       "      <th>846</th>\n",
       "      <td>847</td>\n",
       "      <td>0</td>\n",
       "      <td>3</td>\n",
       "      <td>Sage, Mr. Douglas Bullen</td>\n",
       "      <td>male</td>\n",
       "      <td>NaN</td>\n",
       "      <td>8</td>\n",
       "      <td>2</td>\n",
       "      <td>CA. 2343</td>\n",
       "      <td>69.55</td>\n",
       "      <td>NaN</td>\n",
       "      <td>S</td>\n",
       "    </tr>\n",
       "    <tr>\n",
       "      <th>863</th>\n",
       "      <td>864</td>\n",
       "      <td>0</td>\n",
       "      <td>3</td>\n",
       "      <td>Sage, Miss. Dorothy Edith \"Dolly\"</td>\n",
       "      <td>female</td>\n",
       "      <td>NaN</td>\n",
       "      <td>8</td>\n",
       "      <td>2</td>\n",
       "      <td>CA. 2343</td>\n",
       "      <td>69.55</td>\n",
       "      <td>NaN</td>\n",
       "      <td>S</td>\n",
       "    </tr>\n",
       "  </tbody>\n",
       "</table>\n",
       "</div>"
      ],
      "text/plain": [
       "     PassengerId  Survived  Pclass                               Name     Sex  \\\n",
       "159          160         0       3         Sage, Master. Thomas Henry    male   \n",
       "180          181         0       3       Sage, Miss. Constance Gladys  female   \n",
       "201          202         0       3                Sage, Mr. Frederick    male   \n",
       "324          325         0       3           Sage, Mr. George John Jr    male   \n",
       "792          793         0       3            Sage, Miss. Stella Anna  female   \n",
       "846          847         0       3           Sage, Mr. Douglas Bullen    male   \n",
       "863          864         0       3  Sage, Miss. Dorothy Edith \"Dolly\"  female   \n",
       "\n",
       "     Age  SibSp  Parch    Ticket   Fare Cabin Embarked  \n",
       "159  NaN      8      2  CA. 2343  69.55   NaN        S  \n",
       "180  NaN      8      2  CA. 2343  69.55   NaN        S  \n",
       "201  NaN      8      2  CA. 2343  69.55   NaN        S  \n",
       "324  NaN      8      2  CA. 2343  69.55   NaN        S  \n",
       "792  NaN      8      2  CA. 2343  69.55   NaN        S  \n",
       "846  NaN      8      2  CA. 2343  69.55   NaN        S  \n",
       "863  NaN      8      2  CA. 2343  69.55   NaN        S  "
      ]
     },
     "execution_count": 14,
     "metadata": {},
     "output_type": "execute_result"
    }
   ],
   "source": [
    "#Investigate other passengers that shared the same Ticket number as Miss Sage. Ticket number 2343.\n",
    "\n",
    "check_ticket('CA. 2343')"
   ]
  },
  {
   "cell_type": "markdown",
   "metadata": {},
   "source": [
    "The result returns another set of family."
   ]
  },
  {
   "cell_type": "markdown",
   "metadata": {},
   "source": [
    "### Conclusion on Duplicate Ticket Number:\n",
    "\n",
    "Data from two out of three tickets shows a family relations. A quick search on Hays, Miss. Margaret Bechstein revealed that she has been traveling with Lily Potter (source: https://www.encyclopedia-titanica.org/titanic-survivor/margaret-bechstein-hays.html). So an assumption can be made that the Titanic Ticket number is not a unique identifier. A family or a group of friends can shared the same ticket number.\n",
    "\n",
    "Next step in the analysis is to check by the Passenger ID. Apart from Ticket Number,  we can also assume each Passenger should have a unique Passenger ID. The below code will check for duplication in Passenger ID"
   ]
  },
  {
   "cell_type": "markdown",
   "metadata": {},
   "source": [
    "### 2.2.1.2: Check for Duplicate in Passenger ID"
   ]
  },
  {
   "cell_type": "code",
   "execution_count": 15,
   "metadata": {
    "collapsed": false
   },
   "outputs": [
    {
     "data": {
      "text/plain": [
       "0    False\n",
       "1    False\n",
       "2    False\n",
       "3    False\n",
       "4    False\n",
       "dtype: bool"
      ]
     },
     "execution_count": 15,
     "metadata": {},
     "output_type": "execute_result"
    }
   ],
   "source": [
    "\"\"\"\"\n",
    "Check the duplicate entry for Passenger ID. \n",
    "Assumptions: All Passenger gets their own unique Passenger ID\n",
    "\"\"\"\n",
    "\n",
    "titanic_data_df.duplicated('PassengerId').head()"
   ]
  },
  {
   "cell_type": "markdown",
   "metadata": {},
   "source": [
    "All of the samples above return 'False'. We will be doing further check to re-confirm that they are no duplicated Passenger ID in the list"
   ]
  },
  {
   "cell_type": "code",
   "execution_count": 16,
   "metadata": {
    "collapsed": false
   },
   "outputs": [
    {
     "data": {
      "text/plain": [
       "False    891\n",
       "dtype: int64"
      ]
     },
     "execution_count": 16,
     "metadata": {},
     "output_type": "execute_result"
    }
   ],
   "source": [
    "#Counting the boolean results from the duplicated series\n",
    "\n",
    "duplicate_result=titanic_data_df.duplicated('PassengerId')\n",
    "duplicate_result.value_counts()"
   ]
  },
  {
   "cell_type": "markdown",
   "metadata": {},
   "source": [
    "The code above did not return any True value. So we can safely assume that they are no duplicates in Passenger ID column"
   ]
  },
  {
   "cell_type": "markdown",
   "metadata": {
    "collapsed": true
   },
   "source": [
    "### Conclusion on Duplicate Passenger ID. \n",
    "\n",
    "We can conclude that Passenger ID is unique identifier for each passenger. And we can also confirm there are 891 passengers in this dataset. "
   ]
  },
  {
   "cell_type": "markdown",
   "metadata": {},
   "source": [
    "### 2.2.2: Fill up the 'NaN' value with NA"
   ]
  },
  {
   "cell_type": "markdown",
   "metadata": {},
   "source": [
    "'NaN' stands for Not a Number, which was filled when we have an undefined or 'empty' value. Some of the data from this dataset is missing, and we will be filling up the NaN value with NA (Not Available). This is important to make sure these 'empty' or missing value will not cause problem should we need further analysis."
   ]
  },
  {
   "cell_type": "code",
   "execution_count": 17,
   "metadata": {
    "collapsed": false
   },
   "outputs": [],
   "source": [
    "# Function to check for NaN value in the dataset\n",
    "\n",
    "def check_null():\n",
    "    print titanic_data_df.isnull().sum()"
   ]
  },
  {
   "cell_type": "code",
   "execution_count": 18,
   "metadata": {
    "collapsed": false
   },
   "outputs": [
    {
     "name": "stdout",
     "output_type": "stream",
     "text": [
      "PassengerId      0\n",
      "Survived         0\n",
      "Pclass           0\n",
      "Name             0\n",
      "Sex              0\n",
      "Age            177\n",
      "SibSp            0\n",
      "Parch            0\n",
      "Ticket           0\n",
      "Fare             0\n",
      "Cabin          687\n",
      "Embarked         2\n",
      "dtype: int64\n"
     ]
    }
   ],
   "source": [
    "check_null()"
   ]
  },
  {
   "cell_type": "markdown",
   "metadata": {},
   "source": [
    "The 'Cabin' column in this dataset has a lot of missing value. This might cause a problem if we want to determine if Cabin position is instrumental in your chances of surviving the Titanic. However, we will not be delving deeper into that question in this report. We will then proceed with replacing the 'NaN' value with 'NA' (Not Available)"
   ]
  },
  {
   "cell_type": "code",
   "execution_count": 19,
   "metadata": {
    "collapsed": false
   },
   "outputs": [
    {
     "data": {
      "text/html": [
       "<div>\n",
       "<table border=\"1\" class=\"dataframe\">\n",
       "  <thead>\n",
       "    <tr style=\"text-align: right;\">\n",
       "      <th></th>\n",
       "      <th>PassengerId</th>\n",
       "      <th>Survived</th>\n",
       "      <th>Pclass</th>\n",
       "      <th>Name</th>\n",
       "      <th>Sex</th>\n",
       "      <th>Age</th>\n",
       "      <th>SibSp</th>\n",
       "      <th>Parch</th>\n",
       "      <th>Ticket</th>\n",
       "      <th>Fare</th>\n",
       "      <th>Cabin</th>\n",
       "      <th>Embarked</th>\n",
       "    </tr>\n",
       "  </thead>\n",
       "  <tbody>\n",
       "    <tr>\n",
       "      <th>0</th>\n",
       "      <td>1</td>\n",
       "      <td>0</td>\n",
       "      <td>3</td>\n",
       "      <td>Braund, Mr. Owen Harris</td>\n",
       "      <td>male</td>\n",
       "      <td>22</td>\n",
       "      <td>1</td>\n",
       "      <td>0</td>\n",
       "      <td>A/5 21171</td>\n",
       "      <td>7.2500</td>\n",
       "      <td>NA</td>\n",
       "      <td>S</td>\n",
       "    </tr>\n",
       "    <tr>\n",
       "      <th>1</th>\n",
       "      <td>2</td>\n",
       "      <td>1</td>\n",
       "      <td>1</td>\n",
       "      <td>Cumings, Mrs. John Bradley (Florence Briggs Th...</td>\n",
       "      <td>female</td>\n",
       "      <td>38</td>\n",
       "      <td>1</td>\n",
       "      <td>0</td>\n",
       "      <td>PC 17599</td>\n",
       "      <td>71.2833</td>\n",
       "      <td>C85</td>\n",
       "      <td>C</td>\n",
       "    </tr>\n",
       "    <tr>\n",
       "      <th>2</th>\n",
       "      <td>3</td>\n",
       "      <td>1</td>\n",
       "      <td>3</td>\n",
       "      <td>Heikkinen, Miss. Laina</td>\n",
       "      <td>female</td>\n",
       "      <td>26</td>\n",
       "      <td>0</td>\n",
       "      <td>0</td>\n",
       "      <td>STON/O2. 3101282</td>\n",
       "      <td>7.9250</td>\n",
       "      <td>NA</td>\n",
       "      <td>S</td>\n",
       "    </tr>\n",
       "    <tr>\n",
       "      <th>3</th>\n",
       "      <td>4</td>\n",
       "      <td>1</td>\n",
       "      <td>1</td>\n",
       "      <td>Futrelle, Mrs. Jacques Heath (Lily May Peel)</td>\n",
       "      <td>female</td>\n",
       "      <td>35</td>\n",
       "      <td>1</td>\n",
       "      <td>0</td>\n",
       "      <td>113803</td>\n",
       "      <td>53.1000</td>\n",
       "      <td>C123</td>\n",
       "      <td>S</td>\n",
       "    </tr>\n",
       "    <tr>\n",
       "      <th>4</th>\n",
       "      <td>5</td>\n",
       "      <td>0</td>\n",
       "      <td>3</td>\n",
       "      <td>Allen, Mr. William Henry</td>\n",
       "      <td>male</td>\n",
       "      <td>35</td>\n",
       "      <td>0</td>\n",
       "      <td>0</td>\n",
       "      <td>373450</td>\n",
       "      <td>8.0500</td>\n",
       "      <td>NA</td>\n",
       "      <td>S</td>\n",
       "    </tr>\n",
       "  </tbody>\n",
       "</table>\n",
       "</div>"
      ],
      "text/plain": [
       "   PassengerId  Survived  Pclass  \\\n",
       "0            1         0       3   \n",
       "1            2         1       1   \n",
       "2            3         1       3   \n",
       "3            4         1       1   \n",
       "4            5         0       3   \n",
       "\n",
       "                                                Name     Sex Age  SibSp  \\\n",
       "0                            Braund, Mr. Owen Harris    male  22      1   \n",
       "1  Cumings, Mrs. John Bradley (Florence Briggs Th...  female  38      1   \n",
       "2                             Heikkinen, Miss. Laina  female  26      0   \n",
       "3       Futrelle, Mrs. Jacques Heath (Lily May Peel)  female  35      1   \n",
       "4                           Allen, Mr. William Henry    male  35      0   \n",
       "\n",
       "   Parch            Ticket     Fare Cabin Embarked  \n",
       "0      0         A/5 21171   7.2500    NA        S  \n",
       "1      0          PC 17599  71.2833   C85        C  \n",
       "2      0  STON/O2. 3101282   7.9250    NA        S  \n",
       "3      0            113803  53.1000  C123        S  \n",
       "4      0            373450   8.0500    NA        S  "
      ]
     },
     "execution_count": 19,
     "metadata": {},
     "output_type": "execute_result"
    }
   ],
   "source": [
    "#The below code will replace all the 'NaN' value with NA (Not Available)\n",
    "\n",
    "titanic_data_df.fillna(value='NA').head()"
   ]
  },
  {
   "cell_type": "markdown",
   "metadata": {},
   "source": [
    "As we can see in the above sample, the 'Cabin' column for the 1st, 3rd and 5th passengers have been replaced with NA."
   ]
  },
  {
   "cell_type": "markdown",
   "metadata": {},
   "source": [
    "# 3. Exploring the Data"
   ]
  },
  {
   "cell_type": "markdown",
   "metadata": {},
   "source": [
    "In this section, we will be looking at:-\n",
    "    \n",
    "    1. Overall Survival Rate\n",
    "    2. Survival rate between Female and Male\n",
    "    3. Survival rate between all classes of passengers (Class 1, 2 and 3)\n",
    "    4. The above question #3 leads to another question: Is there a difference in mean ticket price between Survivors and non-Survivors?\n",
    "    "
   ]
  },
  {
   "cell_type": "markdown",
   "metadata": {},
   "source": [
    "## 3.1: Overall Survival Rate"
   ]
  },
  {
   "cell_type": "code",
   "execution_count": 20,
   "metadata": {
    "collapsed": false
   },
   "outputs": [],
   "source": [
    "#function to print the total number of Titanic passengers. \n",
    "\n",
    "def titanic_total():\n",
    "    print 'Total number of passengers:', len(titanic_data_df)"
   ]
  },
  {
   "cell_type": "code",
   "execution_count": 21,
   "metadata": {
    "collapsed": true
   },
   "outputs": [],
   "source": [
    "#A function to count the passengers based on the column name and value given\n",
    "\n",
    "def count_passenger(column_name, data_value):\n",
    "    return len(titanic_data_df.loc[titanic_data_df[column_name] == data_value ]) "
   ]
  },
  {
   "cell_type": "code",
   "execution_count": 22,
   "metadata": {
    "collapsed": true
   },
   "outputs": [],
   "source": [
    "#A function that take total passengers and breakdown variables and return the percentage value at two decimal points\n",
    "\n",
    "def count_percent(total_passengers, breakdown):\n",
    "    return round((float(breakdown) / float(total_passengers) * 100),2) "
   ]
  },
  {
   "cell_type": "code",
   "execution_count": 23,
   "metadata": {
    "collapsed": false
   },
   "outputs": [],
   "source": [
    "#A function that print out the count and the percentage of the passengers\n",
    "\n",
    "def passenger_report(col_name, col_value):\n",
    "    print 'The number of Passengers:',  count_passenger(col_name, col_value)\n",
    "    percent =count_percent(len(titanic_data_df), count_passenger(col_name, col_value) )\n",
    "    print 'Percentage(%) of the Passengers:', percent\n"
   ]
  },
  {
   "cell_type": "code",
   "execution_count": 24,
   "metadata": {
    "collapsed": false
   },
   "outputs": [
    {
     "name": "stdout",
     "output_type": "stream",
     "text": [
      "Total number of passengers: 891\n",
      "\n",
      "Survival Report\n",
      "The number of Passengers: 342\n",
      "Percentage(%) of the Passengers: 38.38\n",
      "\n",
      "Non-Survival Report\n",
      "The number of Passengers: 549\n",
      "Percentage(%) of the Passengers: 61.62\n"
     ]
    }
   ],
   "source": [
    "##The value is Survived=1 (for survivors) or Survived=0 (for non-survivors)\n",
    "\n",
    "titanic_total()\n",
    "print ''\n",
    "print 'Survival Report'\n",
    "passenger_report('Survived', 1)\n",
    "print '' #line break\n",
    "print 'Non-Survival Report'\n",
    "passenger_report('Survived', 0)\n"
   ]
  },
  {
   "cell_type": "markdown",
   "metadata": {},
   "source": [
    "It's unfortunate that the majority of the passengers did not survive the voyage to America. Around 61% of the passengers perished on the voyage."
   ]
  },
  {
   "cell_type": "code",
   "execution_count": 25,
   "metadata": {
    "collapsed": false
   },
   "outputs": [
    {
     "data": {
      "image/png": "[encoded data removed]",
      "text/plain": [
       "<matplotlib.figure.Figure at 0x7552730>"
      ]
     },
     "metadata": {},
     "output_type": "display_data"
    }
   ],
   "source": [
    "#Pie Chart that shows the breakdown between Survivors and non-Survivors \n",
    "\n",
    "percent_survived=count_percent(len(titanic_data_df), count_passenger('Survived', 1) )\n",
    "percent_not_survived=count_percent(len(titanic_data_df), count_passenger('Survived', 0) )\n",
    "\n",
    "labels = ['Survived', 'Did not Survived']\n",
    "sizes = [percent_survived, percent_not_survived]\n",
    "explode = (0.1, 0)\n",
    "cols = ['lightskyblue','lightgreen']\n",
    "\n",
    "plt.pie(sizes, explode, labels, autopct='%1.2f%%', startangle=90, colors=cols, shadow=True,)\n",
    "plt.title('Figure 1: Breakdown between Survivors and non-Survivors')\n",
    "plt.show()"
   ]
  },
  {
   "cell_type": "markdown",
   "metadata": {},
   "source": [
    "## 3.2: Survival Rate between Females and Males"
   ]
  },
  {
   "cell_type": "markdown",
   "metadata": {},
   "source": [
    "### 3.2.1: Counting the numbers of Female and Male passengers"
   ]
  },
  {
   "cell_type": "code",
   "execution_count": 26,
   "metadata": {
    "collapsed": false
   },
   "outputs": [
    {
     "name": "stdout",
     "output_type": "stream",
     "text": [
      "Total number of passengers: 891\n",
      "\n",
      "Number of female passengers\n",
      "The number of Passengers: 314\n",
      "Percentage(%) of the Passengers: 35.24\n",
      "\n",
      "Number of male passengers\n",
      "The number of Passengers: 577\n",
      "Percentage(%) of the Passengers: 64.76\n"
     ]
    }
   ],
   "source": [
    "titanic_total()\n",
    "print ''\n",
    "print 'Number of female passengers'\n",
    "passenger_report('Sex','female')\n",
    "print '' #line break\n",
    "print 'Number of male passengers'\n",
    "passenger_report('Sex','male')"
   ]
  },
  {
   "cell_type": "markdown",
   "metadata": {},
   "source": [
    "From the above findings, almost 65% of the passengers are male passengers and they made up the majority of the Titanic passengers. We will now break it down to their survival rates"
   ]
  },
  {
   "cell_type": "markdown",
   "metadata": {},
   "source": [
    "### 3.2.2: Finding the survival rate based on Genders"
   ]
  },
  {
   "cell_type": "code",
   "execution_count": 27,
   "metadata": {
    "collapsed": true
   },
   "outputs": [],
   "source": [
    "#return a count based on Survived value\n",
    "\n",
    "def count_survival(groupby_name):\n",
    "    return titanic_data_df[titanic_data_df['Survived'] == 1].groupby(groupby_name).count()"
   ]
  },
  {
   "cell_type": "code",
   "execution_count": 28,
   "metadata": {
    "collapsed": false
   },
   "outputs": [],
   "source": [
    "#return a count based on non-survival value\n",
    "\n",
    "def count_non_survival(grouby_name):\n",
    "    return titanic_data_df[titanic_data_df['Survived'] == 0].groupby(grouby_name).count()"
   ]
  },
  {
   "cell_type": "code",
   "execution_count": 29,
   "metadata": {
    "collapsed": false
   },
   "outputs": [
    {
     "name": "stdout",
     "output_type": "stream",
     "text": [
      "Survivors Count\n",
      "Female Survivors Count: 233\n",
      "Male Survivors Count: 109\n",
      "\n",
      "Non-Survivors Count\n",
      "Female non-Survivors Count: 81\n",
      "Male non-Survivors Count: 468\n"
     ]
    }
   ],
   "source": [
    "#The full list between Survivors and non-Survivors breakdown by Genders\n",
    "\n",
    "print 'Survivors Count'\n",
    "female_survivors = count_survival('Sex').Survived['female']\n",
    "print 'Female Survivors Count:',female_survivors\n",
    "male_survivors = count_survival('Sex').Survived['male']\n",
    "print 'Male Survivors Count:', male_survivors \n",
    "print '' #line break\n",
    "print 'Non-Survivors Count'\n",
    "female_non_survivors=count_non_survival('Sex').Survived['female']\n",
    "print 'Female non-Survivors Count:', female_non_survivors\n",
    "male_non_survivors=count_non_survival('Sex').Survived['male']\n",
    "print 'Male non-Survivors Count:', male_non_survivors"
   ]
  },
  {
   "cell_type": "markdown",
   "metadata": {
    "collapsed": true
   },
   "source": [
    "From the result above, 233 female survived the tragedy while only 109 male survived, even though male passengers made up the majority."
   ]
  },
  {
   "cell_type": "code",
   "execution_count": 30,
   "metadata": {
    "collapsed": false
   },
   "outputs": [
    {
     "data": {
      "image/png": "[encoded data removed]",
      "text/plain": [
       "<matplotlib.figure.Figure at 0x764ec10>"
      ]
     },
     "metadata": {},
     "output_type": "display_data"
    }
   ],
   "source": [
    "#Graph bar that shows the breakdown between survivors and non-survivors based on gender\n",
    "\n",
    "count_female=count_passenger('Sex', 'female')\n",
    "count_male=count_passenger('Sex', 'male')\n",
    "first_bar= (count_female, female_survivors, female_non_survivors)\n",
    "second_bar= (count_male, male_survivors, male_non_survivors)\n",
    "\n",
    "\n",
    "fig, ax = plt.subplots()\n",
    "\n",
    "index = np.arange(3)\n",
    "bar_width = 0.35\n",
    "\n",
    "opacity = 0.4\n",
    "error_config = {'ecolor': '0.3'}\n",
    "\n",
    "rects1 = plt.bar(index + bar_width, first_bar, bar_width,\n",
    "                 alpha=opacity,\n",
    "                 color='r',\n",
    "                 error_kw=error_config,\n",
    "                 label='Women')\n",
    "\n",
    "rects2 = plt.bar(index, second_bar, bar_width,\n",
    "                 alpha=opacity,\n",
    "                 color='b',\n",
    "                 error_kw=error_config,\n",
    "                 label='Men')\n",
    "\n",
    "\n",
    "plt.xlabel('Genders')\n",
    "plt.ylabel('Count')\n",
    "plt.title('Figure 2: Breakdown of Survivors and non-Survivors by Genders')\n",
    "plt.xticks(index + bar_width / 2, ('Overall Passengers', 'Survivors', 'Non-Survivors'))\n",
    "plt.legend()\n",
    "\n",
    "plt.tight_layout()\n",
    "plt.show()"
   ]
  },
  {
   "cell_type": "markdown",
   "metadata": {},
   "source": [
    "Even though male made up a majority of the Titanic passengers (577 passengers), it was the females that made up the majority of the survivors (with 233 female passengers surviving the voyage)."
   ]
  },
  {
   "cell_type": "markdown",
   "metadata": {},
   "source": [
    "## 3.3: Finding the Survival Rate based on Class"
   ]
  },
  {
   "cell_type": "markdown",
   "metadata": {},
   "source": [
    "### 3.3.1: Finding the overall passengers separated by Ticket Class"
   ]
  },
  {
   "cell_type": "code",
   "execution_count": 31,
   "metadata": {
    "collapsed": false
   },
   "outputs": [
    {
     "name": "stdout",
     "output_type": "stream",
     "text": [
      "Total number of passengers: 891\n",
      "\n",
      "Number of passengers in the 1st Class\n",
      "The number of Passengers: 216\n",
      "Percentage(%) of the Passengers: 24.24\n",
      "\n",
      "Number of passengers in the 2nd Class\n",
      "The number of Passengers: 184\n",
      "Percentage(%) of the Passengers: 20.65\n",
      "\n",
      "Number of passengers in the 3rd Class\n",
      "The number of Passengers: 491\n",
      "Percentage(%) of the Passengers: 55.11\n"
     ]
    }
   ],
   "source": [
    "titanic_total()\n",
    "print ''\n",
    "print 'Number of passengers in the 1st Class'\n",
    "passenger_report ('Pclass', 1)\n",
    "print '' #line break\n",
    "print 'Number of passengers in the 2nd Class'\n",
    "passenger_report ('Pclass', 2)\n",
    "print '' #line break\n",
    "print 'Number of passengers in the 3rd Class'\n",
    "passenger_report ('Pclass', 3)"
   ]
  },
  {
   "cell_type": "markdown",
   "metadata": {},
   "source": [
    "The 3rd Class passengers made up the majority of the ticket holders. We will now break it down further between survivors and non-survivors in each class"
   ]
  },
  {
   "cell_type": "markdown",
   "metadata": {},
   "source": [
    "### 3.3.2: Breakdown of survivors and non-survivors by Class Ticket"
   ]
  },
  {
   "cell_type": "code",
   "execution_count": 32,
   "metadata": {
    "collapsed": false
   },
   "outputs": [
    {
     "name": "stdout",
     "output_type": "stream",
     "text": [
      "Survivors in Class 1: 136\n",
      "Survivors in Class 2: 87\n",
      "Survivors in Class 3: 119\n",
      "\n",
      "Non-Survivors in Class 1: 80\n",
      "Non-Survivors in Class 2: 97\n",
      "Non-Survivors in Class 3: 372\n"
     ]
    }
   ],
   "source": [
    "#Finding the survivors in each class\n",
    "\n",
    "print 'Survivors in Class 1:', count_survival('Pclass').Survived[1]\n",
    "print 'Survivors in Class 2:', count_survival('Pclass').Survived[2]\n",
    "print 'Survivors in Class 3:', count_survival('Pclass').Survived[3]\n",
    "print '' #line break\n",
    "print 'Non-Survivors in Class 1:', count_non_survival('Pclass').Survived[1]\n",
    "print 'Non-Survivors in Class 2:', count_non_survival('Pclass').Survived[2]\n",
    "print 'Non-Survivors in Class 3:', count_non_survival ('Pclass').Survived[3]"
   ]
  },
  {
   "cell_type": "markdown",
   "metadata": {},
   "source": [
    "The 3rd class passengers made up the majority of non-survivors, even though they are the biggest group of passengers on the Titanic. We can further break this down by Genders, whether female has a higher survival rate through all classes."
   ]
  },
  {
   "cell_type": "markdown",
   "metadata": {},
   "source": [
    "### 3.3.3: Survivors breakdown by Class and Genders"
   ]
  },
  {
   "cell_type": "code",
   "execution_count": 33,
   "metadata": {
    "collapsed": false,
    "scrolled": true
   },
   "outputs": [
    {
     "data": {
      "text/html": [
       "<div>\n",
       "<table border=\"1\" class=\"dataframe\">\n",
       "  <thead>\n",
       "    <tr style=\"text-align: right;\">\n",
       "      <th></th>\n",
       "      <th></th>\n",
       "      <th></th>\n",
       "      <th>PassengerId</th>\n",
       "    </tr>\n",
       "    <tr>\n",
       "      <th>Survived</th>\n",
       "      <th>Pclass</th>\n",
       "      <th>Sex</th>\n",
       "      <th></th>\n",
       "    </tr>\n",
       "  </thead>\n",
       "  <tbody>\n",
       "    <tr>\n",
       "      <th rowspan=\"6\" valign=\"top\">0</th>\n",
       "      <th rowspan=\"2\" valign=\"top\">1</th>\n",
       "      <th>female</th>\n",
       "      <td>3</td>\n",
       "    </tr>\n",
       "    <tr>\n",
       "      <th>male</th>\n",
       "      <td>77</td>\n",
       "    </tr>\n",
       "    <tr>\n",
       "      <th rowspan=\"2\" valign=\"top\">2</th>\n",
       "      <th>female</th>\n",
       "      <td>6</td>\n",
       "    </tr>\n",
       "    <tr>\n",
       "      <th>male</th>\n",
       "      <td>91</td>\n",
       "    </tr>\n",
       "    <tr>\n",
       "      <th rowspan=\"2\" valign=\"top\">3</th>\n",
       "      <th>female</th>\n",
       "      <td>72</td>\n",
       "    </tr>\n",
       "    <tr>\n",
       "      <th>male</th>\n",
       "      <td>300</td>\n",
       "    </tr>\n",
       "    <tr>\n",
       "      <th rowspan=\"6\" valign=\"top\">1</th>\n",
       "      <th rowspan=\"2\" valign=\"top\">1</th>\n",
       "      <th>female</th>\n",
       "      <td>91</td>\n",
       "    </tr>\n",
       "    <tr>\n",
       "      <th>male</th>\n",
       "      <td>45</td>\n",
       "    </tr>\n",
       "    <tr>\n",
       "      <th rowspan=\"2\" valign=\"top\">2</th>\n",
       "      <th>female</th>\n",
       "      <td>70</td>\n",
       "    </tr>\n",
       "    <tr>\n",
       "      <th>male</th>\n",
       "      <td>17</td>\n",
       "    </tr>\n",
       "    <tr>\n",
       "      <th rowspan=\"2\" valign=\"top\">3</th>\n",
       "      <th>female</th>\n",
       "      <td>72</td>\n",
       "    </tr>\n",
       "    <tr>\n",
       "      <th>male</th>\n",
       "      <td>47</td>\n",
       "    </tr>\n",
       "  </tbody>\n",
       "</table>\n",
       "</div>"
      ],
      "text/plain": [
       "                        PassengerId\n",
       "Survived Pclass Sex                \n",
       "0        1      female            3\n",
       "                male             77\n",
       "         2      female            6\n",
       "                male             91\n",
       "         3      female           72\n",
       "                male            300\n",
       "1        1      female           91\n",
       "                male             45\n",
       "         2      female           70\n",
       "                male             17\n",
       "         3      female           72\n",
       "                male             47"
      ]
     },
     "execution_count": 33,
     "metadata": {},
     "output_type": "execute_result"
    }
   ],
   "source": [
    "#Survivors and non-Survivors breakdown by Class and Genders\n",
    "    \n",
    "titanic_data_df.groupby(['Survived', 'Pclass', 'Sex'])[['PassengerId']].count()"
   ]
  },
  {
   "cell_type": "markdown",
   "metadata": {},
   "source": [
    "As we can see from the above, the biggest casualty is male passengers in the 3rd Class. While females in the 1st Class made up the biggest group of survivors. Overall, females made up the majority of Survivors in each Class"
   ]
  },
  {
   "cell_type": "markdown",
   "metadata": {
    "collapsed": false
   },
   "source": [
    "## 3.4: Mean Ticket Price for Survivors and non-Survivors"
   ]
  },
  {
   "cell_type": "markdown",
   "metadata": {
    "collapsed": true
   },
   "source": [
    "Based on the findings above, do survivors actually paid more for their ticket price?"
   ]
  },
  {
   "cell_type": "code",
   "execution_count": 34,
   "metadata": {
    "collapsed": false
   },
   "outputs": [
    {
     "name": "stdout",
     "output_type": "stream",
     "text": [
      "Mean of the ticket Price Difference in Pound Sterling (£):\n"
     ]
    },
    {
     "data": {
      "text/html": [
       "<div>\n",
       "<table border=\"1\" class=\"dataframe\">\n",
       "  <thead>\n",
       "    <tr style=\"text-align: right;\">\n",
       "      <th></th>\n",
       "      <th>Fare</th>\n",
       "    </tr>\n",
       "    <tr>\n",
       "      <th>Survived</th>\n",
       "      <th></th>\n",
       "    </tr>\n",
       "  </thead>\n",
       "  <tbody>\n",
       "    <tr>\n",
       "      <th>0</th>\n",
       "      <td>22.117887</td>\n",
       "    </tr>\n",
       "    <tr>\n",
       "      <th>1</th>\n",
       "      <td>48.395408</td>\n",
       "    </tr>\n",
       "  </tbody>\n",
       "</table>\n",
       "</div>"
      ],
      "text/plain": [
       "               Fare\n",
       "Survived           \n",
       "0         22.117887\n",
       "1         48.395408"
      ]
     },
     "execution_count": 34,
     "metadata": {},
     "output_type": "execute_result"
    }
   ],
   "source": [
    "#finding the mean ticket price difference between Survivors and non-Survivors\n",
    "\n",
    "print 'Mean of the ticket Price Difference in Pound Sterling (£):'\n",
    "titanic_data_df.groupby(['Survived'])[['Fare']].mean()"
   ]
  },
  {
   "cell_type": "markdown",
   "metadata": {},
   "source": [
    "The mean ticket price for survivors is around £48 while the non-survivors paid a lower mean ticket price at £22. This result brought up another curiosity: What is the highest price paid by Survivors and non-Survivors?"
   ]
  },
  {
   "cell_type": "code",
   "execution_count": 35,
   "metadata": {
    "collapsed": false
   },
   "outputs": [
    {
     "name": "stdout",
     "output_type": "stream",
     "text": [
      "Highest Ticket Fare by both groups\n"
     ]
    },
    {
     "data": {
      "text/html": [
       "<div>\n",
       "<table border=\"1\" class=\"dataframe\">\n",
       "  <thead>\n",
       "    <tr style=\"text-align: right;\">\n",
       "      <th></th>\n",
       "      <th>Fare</th>\n",
       "    </tr>\n",
       "    <tr>\n",
       "      <th>Survived</th>\n",
       "      <th></th>\n",
       "    </tr>\n",
       "  </thead>\n",
       "  <tbody>\n",
       "    <tr>\n",
       "      <th>0</th>\n",
       "      <td>263.0000</td>\n",
       "    </tr>\n",
       "    <tr>\n",
       "      <th>1</th>\n",
       "      <td>512.3292</td>\n",
       "    </tr>\n",
       "  </tbody>\n",
       "</table>\n",
       "</div>"
      ],
      "text/plain": [
       "              Fare\n",
       "Survived          \n",
       "0         263.0000\n",
       "1         512.3292"
      ]
     },
     "execution_count": 35,
     "metadata": {},
     "output_type": "execute_result"
    }
   ],
   "source": [
    "#Check for highest value in Fare column\n",
    "\n",
    "print 'Highest Ticket Fare by both groups'\n",
    "titanic_data_df.groupby(['Survived'])[['Fare']].max()"
   ]
  },
  {
   "cell_type": "markdown",
   "metadata": {},
   "source": [
    "The highest price paid by non-Survivor is actually higher than the mean ticket price for Survivors's. It is possible the victim paid for a seat in the 1st Class."
   ]
  },
  {
   "cell_type": "markdown",
   "metadata": {},
   "source": [
    "# 4. Conclusion:"
   ]
  },
  {
   "cell_type": "markdown",
   "metadata": {},
   "source": [
    "Based on the analysis, gender and ticket class do play some contributing factors into survival rate of the Titanic passengers. You have a higher chance of surviving if you're a female from the 1st Class. However, this is a tentative findings since further statistical analysis is needed to confirm if these results are statistically significant. \n",
    "\n",
    "The conclusion from this report is also based on incomplete data, since we're only analysing 891 passengers while report from Wikipedia estimated 2224 passengers and crews were on the ship. Further analysis can be done if we have other information such as time taken to get into the lifeboat (does shorter duration between alarm sounds and getting into your lifeboat ensure a higher chance of survival?). Which brings us to Cabin numbers and their positions on the ship. Unfortunately, most of the Cabin numbers were missing from this dataset"
   ]
  },
  {
   "cell_type": "markdown",
   "metadata": {},
   "source": [
    "# About this documentation:\n",
    "\n",
    "    All codes were written on Python 2.7\n",
    "    Conda-env: DAND\n",
    "    Jupyter Notebook viewable on Mozilla Firefox ver 52.2.1 (32bit)"
   ]
  }
 ],
 "metadata": {
  "anaconda-cloud": {},
  "kernelspec": {
   "display_name": "Python [conda env:DAND]",
   "language": "python",
   "name": "conda-env-DAND-py"
  },
  "language_info": {
   "codemirror_mode": {
    "name": "ipython",
    "version": 2
   },
   "file_extension": ".py",
   "mimetype": "text/x-python",
   "name": "python",
   "nbconvert_exporter": "python",
   "pygments_lexer": "ipython2",
   "version": "2.7.12"
  }
 },
 "nbformat": 4,
 "nbformat_minor": 2
}
